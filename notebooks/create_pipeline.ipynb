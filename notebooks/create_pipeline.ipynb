{
 "cells": [
  {
   "cell_type": "markdown",
   "metadata": {},
   "source": [
    "## Create pipeline\n",
    "In the section we will be creating a pipeline using this `python-sdk` to harness the power of `Instill VDP`!\n",
    "\n",
    "Before we get into this, please make sure a local instance of `Instill VDP` and `Instill Model` is running,  and the config file had been populated with the correct `url` and `api_token`\n",
    "\n",
    "Let's get started!\n",
    "\n",
    "### Import packages"
   ]
  },
  {
   "cell_type": "code",
   "execution_count": 1,
   "metadata": {},
   "outputs": [],
   "source": [
    "from instill.clients import InstillClient"
   ]
  },
  {
   "cell_type": "markdown",
   "metadata": {},
   "source": [
    "To setup your target instance at runtime, do the following at the very beginning of your script."
   ]
  },
  {
   "cell_type": "code",
   "execution_count": null,
   "metadata": {},
   "outputs": [],
   "source": [
    "from instill.configuration import global_config\n",
    "\n",
    "global_config.set_default(\n",
    "    url=\"api.instill.tech\",\n",
    "    token=\"instill_sk***\",\n",
    "    secure=True,\n",
    ")"
   ]
  },
  {
   "cell_type": "markdown",
   "metadata": {},
   "source": [
    "### Get the client\n",
    "\n",
    "Get the unified client that connect to all the available services offered by `Instill VDP` and `Instill Model`, including\n",
    "- mgmt_service\n",
    "- pipeline_service\n",
    "- model_service\n",
    "- artifact_service"
   ]
  },
  {
   "cell_type": "code",
   "execution_count": 2,
   "metadata": {},
   "outputs": [],
   "source": [
    "client = InstillClient()\n",
    "\n",
    "user = client.mgmt_service.get_user()\n",
    "# name: \"users/admin\"\n",
    "# uid: \"4767b74d-640a-4cdf-9c6d-7bb0e36098a0\"\n",
    "# id: \"admin\"\n",
    "# ...\n",
    "# ..."
   ]
  },
  {
   "cell_type": "markdown",
   "metadata": {},
   "source": [
    "### Create a model\n",
    "\n",
    "Now create a model `text-generation` in `Instill Model` for later use"
   ]
  },
  {
   "cell_type": "code",
   "execution_count": null,
   "metadata": {},
   "outputs": [],
   "source": [
    "import instill.protogen.common.task.v1alpha.task_pb2 as task_interface\n",
    "model_id = \"model_text-generation\"\n",
    "client.model_service.create_model(\n",
    "    model_id,\n",
    "    task_interface.Task.TASK_TEXT_GENERATION,\n",
    "    \"REGION_GCP_EUROPE_WEST4\",\n",
    "    \"CPU\",\n",
    "    \"model-definitions/container\",\n",
    "    {},\n",
    ")"
   ]
  },
  {
   "cell_type": "markdown",
   "metadata": {},
   "source": [
    "### Build and deploy the model\n",
    "`Instill Model` is an advanced MLOps/LLMOps platform that was specifically crafted to facilitate the efficient management and orchestration of model deployments for unstructured data ETL. With `Instill Model`, you can easily create, manage, and deploy your own custom models with ease in `Instill Core` or on the cloud with `Instill Cloud`.\n",
    "\n",
    "Follow the instructions [here](https://www.instill.tech/docs/model/create) to build and deploy your model.\n"
   ]
  },
  {
   "cell_type": "markdown",
   "metadata": {},
   "source": [
    "### Create a pipeline\n",
    "\n",
    "Now we are ready to construct a pipeline!\n",
    "\n",
    "The pipeline receipt below is a sample for demo. It simply returns the input string value."
   ]
  },
  {
   "cell_type": "code",
   "execution_count": 5,
   "metadata": {},
   "outputs": [],
   "source": [
    "pipeline_id = \"pipeline_demo\"\n",
    "client.pipeline_service.create_pipeline(\n",
    "    pipeline_id,\n",
    "    \"this is a pipeline for demo\",\n",
    "    {\n",
    "        \"output\": {\"result\": {\"title\": \"result\", \"value\": \"${variable.input}\"}},\n",
    "        \"variable\": {\"input\": {\"instillFormat\": \"string\", \"title\": \"input\"}},\n",
    "    },\n",
    ")"
   ]
  },
  {
   "cell_type": "markdown",
   "metadata": {},
   "source": [
    "### Validate the pipeline\n",
    "\n",
    "Before we trigger the pipeline, it is recommended to first validate the pipeline recipe first"
   ]
  },
  {
   "cell_type": "code",
   "execution_count": null,
   "metadata": {},
   "outputs": [],
   "source": [
    "# validate the pipeline recipe\n",
    "client.pipeline_service.validate_pipeline(pipeline_id)"
   ]
  },
  {
   "cell_type": "markdown",
   "metadata": {},
   "source": [
    "### Trigger the pipeline\n",
    "\n",
    "Now it is time to trigger this awesome pipeline!"
   ]
  },
  {
   "cell_type": "code",
   "execution_count": 10,
   "metadata": {},
   "outputs": [],
   "source": [
    "client.pipeline_service.trigger_pipeline(pipeline_id, [], [{\"input\": \"hello world\"}])"
   ]
  }
 ],
 "metadata": {
  "kernelspec": {
   "display_name": "sdk",
   "language": "python",
   "name": "python3"
  },
  "language_info": {
   "codemirror_mode": {
    "name": "ipython",
    "version": 3
   },
   "file_extension": ".py",
   "mimetype": "text/x-python",
   "name": "python",
   "nbconvert_exporter": "python",
   "pygments_lexer": "ipython3",
   "version": "3.11.6"
  },
  "orig_nbformat": 4
 },
 "nbformat": 4,
 "nbformat_minor": 2
}
