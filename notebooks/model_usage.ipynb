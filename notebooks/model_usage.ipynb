{
 "cells": [
  {
   "cell_type": "markdown",
   "id": "c94aaf71-8bfe-4417-9df1-56fa67568510",
   "metadata": {},
   "source": [
    "### import and create client for management service for user management"
   ]
  },
  {
   "cell_type": "code",
   "execution_count": 1,
   "id": "4e558c04-cc82-4c39-9764-dc1be3ca7bb9",
   "metadata": {},
   "outputs": [
    {
     "name": "stderr",
     "output_type": "stream",
     "text": [
      "2023-12-08 03:57:04,171.171 WARNING  Instill VDP is not serving, VDP functionalities will not work\n"
     ]
    }
   ],
   "source": [
    "from instill.configuration import global_config\n",
    "# setup target instance\n",
    "global_config.set_default(\n",
    "    url=\"localhost:8080\",\n",
    "    token=\"\", # put your own api_token here\n",
    "    secure=False,\n",
    ")\n",
    "\n",
    "# get the client with all services\n",
    "from instill.clients import get_client\n",
    "client = get_client()"
   ]
  },
  {
   "cell_type": "markdown",
   "id": "698ae6f5-a273-4470-bb85-f3874bac0927",
   "metadata": {},
   "source": [
    "### make sure the mgmt service is serving"
   ]
  },
  {
   "cell_type": "code",
   "execution_count": 3,
   "id": "77b21f72-1d15-43b6-9f94-c125114abd88",
   "metadata": {},
   "outputs": [
    {
     "data": {
      "text/plain": [
       "True"
      ]
     },
     "execution_count": 3,
     "metadata": {},
     "output_type": "execute_result"
    }
   ],
   "source": [
    "client.mgmt_service.is_serving()"
   ]
  },
  {
   "cell_type": "markdown",
   "id": "1cb90dcd-cae3-43d3-aa9a-ce9edb0237f0",
   "metadata": {},
   "source": [
    "### make sure the model service is serving"
   ]
  },
  {
   "cell_type": "code",
   "execution_count": 4,
   "id": "edc0de1a-87c2-4b6f-85f1-45294cdbb20d",
   "metadata": {},
   "outputs": [
    {
     "data": {
      "text/plain": [
       "True"
      ]
     },
     "execution_count": 4,
     "metadata": {},
     "output_type": "execute_result"
    }
   ],
   "source": [
    "client.mgmt_service.is_serving()"
   ]
  },
  {
   "cell_type": "markdown",
   "id": "63a87c87-f7b3-4bc8-8018-79b6cbba0b9a",
   "metadata": {},
   "source": [
    "### import model resource class for creating model instance"
   ]
  },
  {
   "cell_type": "code",
   "execution_count": 5,
   "id": "5588b57a-d0ef-45b5-8563-0b36fe6eab70",
   "metadata": {},
   "outputs": [],
   "source": [
    "from instill.resources.model import GithubModel"
   ]
  },
  {
   "cell_type": "markdown",
   "id": "af4da697-aa43-484e-8ee4-13195805d7b1",
   "metadata": {},
   "source": [
    "### import protobuf definition files for easier type reference"
   ]
  },
  {
   "cell_type": "code",
   "execution_count": 6,
   "id": "3876b2ec-6287-4ff5-8ab1-316b21d8113e",
   "metadata": {},
   "outputs": [],
   "source": [
    "import instill.protogen.model.model.v1alpha.model_pb2 as model_interface\n",
    "import instill.protogen.model.model.v1alpha.task_classification_pb2 as classification"
   ]
  },
  {
   "cell_type": "markdown",
   "id": "adbe12e3-c85d-40fd-9891-40dfd406cd3b",
   "metadata": {},
   "source": [
    "### define a sample model configuration"
   ]
  },
  {
   "cell_type": "code",
   "execution_count": 12,
   "id": "900a6b85-6c43-4a55-a8d7-cad2e0d9a2a2",
   "metadata": {},
   "outputs": [],
   "source": [
    "github_model = {\n",
    "    \"model_name\": \"mobilenetv2\",\n",
    "    \"model_repo\": \"instill-ai/model-mobilenetv2-dvc\",\n",
    "    \"model_tag\": \"v1.0-cpu\",\n",
    "}"
   ]
  },
  {
   "cell_type": "markdown",
   "id": "b86099c3-ebba-41d4-8fe6-76d7b135ae39",
   "metadata": {},
   "source": [
    "### create model"
   ]
  },
  {
   "cell_type": "code",
   "execution_count": 10,
   "id": "ead15ed1-f7c4-4a58-a807-1e686d9488d2",
   "metadata": {},
   "outputs": [
    {
     "name": "stdout",
     "output_type": "stream",
     "text": [
      "2023-09-02 03:33:45,892.892 INFO     mobilenetv2 creating...\n",
      "2023-09-02 03:33:46,927.927 INFO     mobilenetv2 creating...\n",
      "2023-09-02 03:33:47,958.958 INFO     mobilenetv2 creating...\n"
     ]
    }
   ],
   "source": [
    "model = GithubModel(\n",
    "            client=model_client,\n",
    "            name=github_model[\"model_name\"],\n",
    "            model_repo=github_model[\"model_repo\"],\n",
    "            model_tag=github_model[\"model_tag\"],\n",
    "        )"
   ]
  },
  {
   "cell_type": "markdown",
   "id": "04f889ad-957e-4742-ad2e-e53e2329e050",
   "metadata": {},
   "source": [
    "### check the state of the newly created model, state should be offline"
   ]
  },
  {
   "cell_type": "code",
   "execution_count": 11,
   "id": "2df27691-4e65-4a85-b79d-ada2943ca75b",
   "metadata": {},
   "outputs": [
    {
     "data": {
      "text/plain": [
       "'STATE_OFFLINE'"
      ]
     },
     "execution_count": 11,
     "metadata": {},
     "output_type": "execute_result"
    }
   ],
   "source": [
    "model.get_state()"
   ]
  },
  {
   "cell_type": "markdown",
   "id": "a8c3d383-88ce-4bee-9df3-d18d29be2111",
   "metadata": {},
   "source": [
    "### now deploy the model"
   ]
  },
  {
   "cell_type": "code",
   "execution_count": 12,
   "id": "9d8ae49a-f08c-4090-9ae3-bf6106388ead",
   "metadata": {},
   "outputs": [
    {
     "name": "stdout",
     "output_type": "stream",
     "text": [
      "2023-09-02 03:33:51,649.649 INFO     mobilenetv2 deploying...\n",
      "2023-09-02 03:33:52,669.669 INFO     mobilenetv2 deploying...\n",
      "2023-09-02 03:33:53,695.695 INFO     mobilenetv2 deploying...\n",
      "2023-09-02 03:33:54,720.720 INFO     mobilenetv2 deploying...\n",
      "2023-09-02 03:33:55,752.752 INFO     mobilenetv2 deploying...\n",
      "2023-09-02 03:33:56,779.779 INFO     mobilenetv2 deploying...\n",
      "2023-09-02 03:33:57,799.799 INFO     mobilenetv2 deploying...\n",
      "2023-09-02 03:33:58,815.815 INFO     mobilenetv2 deploying...\n",
      "2023-09-02 03:33:59,833.833 INFO     mobilenetv2 deploying...\n",
      "2023-09-02 03:34:00,843.843 INFO     mobilenetv2 deploying...\n",
      "2023-09-02 03:34:01,853.853 INFO     mobilenetv2 deploying...\n",
      "2023-09-02 03:34:02,883.883 INFO     mobilenetv2 deploying...\n",
      "2023-09-02 03:34:03,894.894 INFO     mobilenetv2 deploying...\n",
      "2023-09-02 03:34:04,940.940 INFO     mobilenetv2 deploying...\n",
      "2023-09-02 03:34:05,951.951 INFO     mobilenetv2 deploying...\n"
     ]
    },
    {
     "data": {
      "text/plain": [
       "True"
      ]
     },
     "execution_count": 12,
     "metadata": {},
     "output_type": "execute_result"
    }
   ],
   "source": [
    "model.deploy()"
   ]
  },
  {
   "cell_type": "markdown",
   "id": "12ecdf84-496b-4bfc-b9e4-b591280b679f",
   "metadata": {},
   "source": [
    "### check the state again, should be online"
   ]
  },
  {
   "cell_type": "code",
   "execution_count": 13,
   "id": "009456a2-851d-482a-b510-c1156643e8f0",
   "metadata": {},
   "outputs": [
    {
     "data": {
      "text/plain": [
       "'STATE_ONLINE'"
      ]
     },
     "execution_count": 13,
     "metadata": {},
     "output_type": "execute_result"
    }
   ],
   "source": [
    "model.get_state()"
   ]
  },
  {
   "cell_type": "markdown",
   "id": "a9eef7de-8589-4d1a-b02a-e554d7f0e0c4",
   "metadata": {},
   "source": [
    "### define a couple of inputs for calssification task"
   ]
  },
  {
   "cell_type": "code",
   "execution_count": 14,
   "id": "38800fee-47d8-43f6-bc7f-439260fe8e49",
   "metadata": {},
   "outputs": [],
   "source": [
    "task_inputs = [\n",
    "    model_interface.TaskInput(\n",
    "        classification=classification.ClassificationInput(\n",
    "            image_url=\"https://artifacts.instill.tech/imgs/dog.jpg\"\n",
    "        )\n",
    "    ),\n",
    "    model_interface.TaskInput(\n",
    "        classification=classification.ClassificationInput(\n",
    "            image_url=\"https://artifacts.instill.tech/imgs/tiff-sample.tiff\"\n",
    "        )\n",
    "    ),\n",
    "]"
   ]
  },
  {
   "cell_type": "markdown",
   "id": "fa61e482-f436-408c-bdd1-9ede500f7bf9",
   "metadata": {},
   "source": [
    "### trigger inference with the inputs"
   ]
  },
  {
   "cell_type": "code",
   "execution_count": 15,
   "id": "00c3ee27-8766-47ef-9843-6cb6013ae7c7",
   "metadata": {},
   "outputs": [
    {
     "data": {
      "text/plain": [
       "[classification {\n",
       "  category: \"golden retriever\"\n",
       "  score: 0.896806\n",
       "}\n",
       ", classification {\n",
       "  category: \"notebook\"\n",
       "  score: 0.511446\n",
       "}\n",
       "]"
      ]
     },
     "execution_count": 15,
     "metadata": {},
     "output_type": "execute_result"
    }
   ],
   "source": [
    "model(task_inputs=task_inputs)"
   ]
  },
  {
   "cell_type": "markdown",
   "id": "138342c5-7802-4c80-9549-861756ead100",
   "metadata": {},
   "source": [
    "### after we are done with the model, simply delete it"
   ]
  },
  {
   "cell_type": "code",
   "execution_count": null,
   "id": "aca61186-97ce-46b6-be53-8e3c82e851a3",
   "metadata": {},
   "outputs": [],
   "source": [
    "model.delete()"
   ]
  }
 ],
 "metadata": {
  "kernelspec": {
   "display_name": "Python 3 (ipykernel)",
   "language": "python",
   "name": "python3"
  },
  "language_info": {
   "codemirror_mode": {
    "name": "ipython",
    "version": 3
   },
   "file_extension": ".py",
   "mimetype": "text/x-python",
   "name": "python",
   "nbconvert_exporter": "python",
   "pygments_lexer": "ipython3",
   "version": "3.11.5"
  }
 },
 "nbformat": 4,
 "nbformat_minor": 5
}
